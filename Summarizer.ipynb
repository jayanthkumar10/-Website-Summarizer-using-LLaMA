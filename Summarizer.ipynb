{
 "cells": [
  {
   "cell_type": "code",
   "execution_count": 8,
   "id": "3805a872-fa05-42d6-99a1-ac08936457d2",
   "metadata": {},
   "outputs": [],
   "source": [
    "# Import necessary libraries\n",
    "import os\n",
    "import requests\n",
    "from dotenv import load_dotenv\n",
    "from bs4 import BeautifulSoup\n",
    "from IPython.display import Markdown, display\n",
    "from openai import OpenAI"
   ]
  },
  {
   "cell_type": "code",
   "execution_count": 9,
   "id": "cbd0f75e-2b62-43a1-80be-56fd4bb3dad6",
   "metadata": {},
   "outputs": [],
   "source": [
    "# Initialize the OpenAI client, pointing to the local Ollama instance\n",
    "openai = OpenAI(base_url='http://localhost:11434/v1', api_key='ollama')"
   ]
  },
  {
   "cell_type": "code",
   "execution_count": 10,
   "id": "bb89059f-21b5-4e52-83e5-b3132d8f9b83",
   "metadata": {},
   "outputs": [],
   "source": [
    " # --- First interaction with the Llama model ---"
   ]
  },
  {
   "cell_type": "code",
   "execution_count": 11,
   "id": "2b23a196-1b18-43db-af92-f0f5fb7ea14c",
   "metadata": {},
   "outputs": [],
   "source": [
    "# Define a simple message for the Llama model\n",
    "message = \"Hello, Llama! This is my first ever message to you! Hi!\"\n",
    "# Send the message to the \"llama3.2\" model and get the response\n",
    "response = openai.chat.completions.create(model=\"llama3.2\", messages=[{\"role\":\"user\", \"content\":message}])\n"
   ]
  },
  {
   "cell_type": "code",
   "execution_count": 12,
   "id": "22df11bf-f86d-4329-a302-e4eaca93ef7b",
   "metadata": {},
   "outputs": [
    {
     "name": "stdout",
     "output_type": "stream",
     "text": [
      "Hello! Welcome! I'm thrilled to be your first conversational partner! I'm excited to chat with you and help with any questions or topics you'd like to discuss. How's your day going so far?\n"
     ]
    }
   ],
   "source": [
    " # Print the content of the model's response\n",
    "print(response.choices[0].message.content)"
   ]
  },
  {
   "cell_type": "code",
   "execution_count": 13,
   "id": "107292a4-3d20-4401-9e43-69cfcf1a24bd",
   "metadata": {},
   "outputs": [],
   "source": [
    "# Define a common User-Agent header to avoid being blocked by websites\n",
    "headers = {\n",
    " \"User-Agent\": \"Mozilla/5.0 (Windows NT 10.0; Win64; x64) AppleWebKit/537.36 (KHTML, like Gecko) Chrome/117.0.0.0 Safari/537.36\"\n",
    "}\n",
    "# --- Class definition for representing a Website ---\n",
    "class Website:\n",
    "\n",
    "    def __init__(self, url):\n",
    "        \"\"\"\n",
    "        Create this Website object from the given url using the BeautifulSoup library\n",
    "        \"\"\"\n",
    "        self.url = url\n",
    "        response = requests.get(url, headers=headers)\n",
    "        soup = BeautifulSoup(response.content, 'html.parser')\n",
    "        self.title = soup.title.string if soup.title else \"No title found\"\n",
    "        for irrelevant in soup.body([\"script\", \"style\", \"img\", \"input\"]):\n",
    "            irrelevant.decompose()\n",
    "        self.text = soup.body.get_text(separator=\"\\n\", strip=True)"
   ]
  },
  {
   "cell_type": "code",
   "execution_count": 14,
   "id": "3d7e0548-3773-406f-9849-95bf77d2b0c9",
   "metadata": {},
   "outputs": [
    {
     "name": "stdout",
     "output_type": "stream",
     "text": [
      "Home - Edward Donner\n",
      "Home\n",
      "Connect Four\n",
      "Outsmart\n",
      "An arena that pits LLMs against each other in a battle of diplomacy and deviousness\n",
      "About\n",
      "Posts\n",
      "Well, hi there.\n",
      "I’m Ed. I like writing code and experimenting with LLMs, and hopefully you’re here because you do too. I also enjoy DJing (but I’m badly out of practice), amateur electronic music production (\n",
      "very\n",
      "amateur) and losing myself in\n",
      "Hacker News\n",
      ", nodding my head sagely to things I only half understand.\n",
      "I’m the co-founder and CTO of\n",
      "Nebula.io\n",
      ". We’re applying AI to a field where it can make a massive, positive impact: helping people discover their potential and pursue their reason for being. Recruiters use our product today to source, understand, engage and manage talent. I’m previously the founder and CEO of AI startup untapt,\n",
      "acquired in 2021\n",
      ".\n",
      "We work with groundbreaking, proprietary LLMs verticalized for talent, we’ve\n",
      "patented\n",
      "our matching model, and our award-winning platform has happy customers and tons of press coverage.\n",
      "Connect\n",
      "with me for more!\n",
      "January 23, 2025\n",
      "LLM Workshop – Hands-on with Agents – resources\n",
      "December 21, 2024\n",
      "Welcome, SuperDataScientists!\n",
      "November 13, 2024\n",
      "Mastering AI and LLM Engineering – Resources\n",
      "October 16, 2024\n",
      "From Software Engineer to AI Data Scientist – resources\n",
      "Navigation\n",
      "Home\n",
      "Connect Four\n",
      "Outsmart\n",
      "An arena that pits LLMs against each other in a battle of diplomacy and deviousness\n",
      "About\n",
      "Posts\n",
      "Get in touch\n",
      "ed [at] edwarddonner [dot] com\n",
      "www.edwarddonner.com\n",
      "Follow me\n",
      "LinkedIn\n",
      "Twitter\n",
      "Facebook\n",
      "Subscribe to newsletter\n",
      "Type your email…\n",
      "Subscribe\n"
     ]
    }
   ],
   "source": [
    "# Create a Website object for the specified URL\n",
    "ed = Website(\"https://edwarddonner.com\")\n",
    "print(ed.title)\n",
    "print(ed.text)"
   ]
  },
  {
   "cell_type": "code",
   "execution_count": 15,
   "id": "17c89875-daf1-4ba2-8b92-468272feed3e",
   "metadata": {},
   "outputs": [],
   "source": [
    "# --- Defining the system prompt for the summarization task ---\n",
    "system_prompt = \"You are an assistant that analyzes the contents of a website \\\n",
    "and provides a short summary, ignoring text that might be navigation related. \\\n",
    "Respond in markdown.\""
   ]
  },
  {
   "cell_type": "code",
   "execution_count": 16,
   "id": "08df7c0b-a6a5-48c8-b0d4-393908f6f135",
   "metadata": {},
   "outputs": [],
   "source": [
    "# --- Function to generate the user prompt based on the Website object ---\n",
    "def user_prompt_for(website):\n",
    "    user_prompt = f\"You are looking at a website titled {website.title}\"\n",
    "    user_prompt += \"\\nThe contents of this website is as follows; \\\n",
    "please provide a short summary of this website in markdown. \\\n",
    "If it includes news or announcements, then summarize these too.\\n\\n\"\n",
    "    user_prompt += website.text\n",
    "    return user_prompt"
   ]
  },
  {
   "cell_type": "code",
   "execution_count": 17,
   "id": "5ea255d9-48e5-4b77-a1bc-bf87ad8d6af7",
   "metadata": {},
   "outputs": [
    {
     "name": "stdout",
     "output_type": "stream",
     "text": [
      "Generated user prompt:\n",
      "\n",
      "You are looking at a website titled Home - Edward Donner\n",
      "The contents of this website is as follows; please provide a short summary of this website in markdown. If it includes news or announcements, then summarize these too.\n",
      "\n",
      "Home\n",
      "Connect Four\n",
      "Outsmart\n",
      "An arena that pits LLMs against each other in a battle of diplomacy and deviousness\n",
      "About\n",
      "Posts\n",
      "Well, hi there.\n",
      "I’m Ed. I like writing code and experimenting with LLMs, and hopefully you’re here because you do too. I also enjoy DJing (but I’m badly out of practice), amateur electronic music production (\n",
      "very\n",
      "amateur) and losing myself in\n",
      "Hacker News\n",
      ", nodding my head sagely to things I only half understand.\n",
      "I’m the co-founder and CTO of\n",
      "Nebula.io\n",
      ". We’re applying AI to a field where it can make a massive, positive impact: helping people discover their potential and pursue their reason for being. Recruiters use our product today to source, understand, engage and manage talent. I’m previously the founder and CEO of AI startup untapt,\n",
      "acquired in 2021\n",
      ".\n",
      "We work with groundbreaking, proprietary LLMs verticalized for talent, we’ve\n",
      "patented\n",
      "our matching model, and our award-winning platform has happy customers and tons of press coverage.\n",
      "Connect\n",
      "with me for more!\n",
      "January 23, 2025\n",
      "LLM Workshop – Hands-on with Agents – resources\n",
      "December 21, 2024\n",
      "Welcome, SuperDataScientists!\n",
      "November 13, 2024\n",
      "Mastering AI and LLM Engineering – Resources\n",
      "October 16, 2024\n",
      "From Software Engineer to AI Data Scientist – resources\n",
      "Navigation\n",
      "Home\n",
      "Connect Four\n",
      "Outsmart\n",
      "An arena that pits LLMs against each other in a battle of diplomacy and deviousness\n",
      "About\n",
      "Posts\n",
      "Get in touch\n",
      "ed [at] edwarddonner [dot] com\n",
      "www.edwarddonner.com\n",
      "Follow me\n",
      "LinkedIn\n",
      "Twitter\n",
      "Facebook\n",
      "Subscribe to newsletter\n",
      "Type your email…\n",
      "Subscribe\n"
     ]
    }
   ],
   "source": [
    " # Print the generated user prompt for the example website\n",
    " print(\"Generated user prompt:\\n\")\n",
    " print(user_prompt_for(ed))"
   ]
  },
  {
   "cell_type": "code",
   "execution_count": 18,
   "id": "a9237890-cc8b-4b95-9f56-32a40ced3852",
   "metadata": {},
   "outputs": [],
   "source": [
    "# --- Function to structure the messages for the OpenAI API ---\n",
    "def messages_for(website):\n",
    "    return [\n",
    "        {\"role\": \"system\", \"content\": system_prompt},\n",
    "        {\"role\": \"user\", \"content\": user_prompt_for(website)}\n",
    "    ]"
   ]
  },
  {
   "cell_type": "code",
   "execution_count": 19,
   "id": "6f8989d9-b25e-4514-84b1-8df885384e52",
   "metadata": {},
   "outputs": [],
   "source": [
    "# Text to separate the prompt definition from the summarization function\n",
    "\n",
    " \n",
    "\n",
    " # --- Function to summarize the content of a given URL ---\n",
    "\n",
    "def summarize(url):\n",
    "    website = Website(url)\n",
    "    response = openai.chat.completions.create(\n",
    "        model = \"llama3.2\",\n",
    "        messages = messages_for(website)\n",
    "    )\n",
    "    return response.choices[0].message.content"
   ]
  },
  {
   "cell_type": "code",
   "execution_count": 20,
   "id": "d07f1b8e-e853-4008-a3cf-40a53af055ac",
   "metadata": {},
   "outputs": [
    {
     "data": {
      "text/plain": [
       "'## Summary of Website \"Home - Edward Donner\"\\n\\n### Overview\\n\\nThe website is hosted by Edward Donner, a co-founder and CTO of Nebula.io, an AI company aiming to apply AI for talent discovery. The site introduces him personally, mentioning his background in coding, DJing, and participating in Hacker News.\\n\\n### LLM Workshop and Resources\\n\\nEdward Donner announces upcoming workshops focused on Large Language Models (LLMs), including:\\n* January 23, 2025: LLM Workshop – Hands-on with Agents\\n\\t+ With provided resources available for attendees.\\n* December 21, 2024: Welcome, SuperDataScientists!\\n\\t+ An announcement with a message directed to data scientists.\\n\\n### Recent News and Announcements\\n\\nThe website displays announcements from previous dates (November 13, 2024 to October 16, 2024). These include resources and information on mastering AI and LLM engineering.\\n\\n### Contact Information\\n\\nEdward Donner provides contact details using \"ed\" at edwarddonner.com for emails.'"
      ]
     },
     "execution_count": 20,
     "metadata": {},
     "output_type": "execute_result"
    }
   ],
   "source": [
    " # Summarize the example website and print the summary\n",
    "summarize(\"https://edwarddonner.com\")"
   ]
  },
  {
   "cell_type": "code",
   "execution_count": 21,
   "id": "a10b5684-0adc-488d-8a5a-e2c6d0a275c4",
   "metadata": {},
   "outputs": [],
   "source": [
    " # --- Function to display the summary in Markdown format ---\n",
    "def display_summary(url):\n",
    "    summary = summarize(url)\n",
    "    display(Markdown(summary))"
   ]
  },
  {
   "cell_type": "code",
   "execution_count": 22,
   "id": "605109d1-9878-432d-ac60-3cdfa8c2e847",
   "metadata": {},
   "outputs": [
    {
     "data": {
      "text/markdown": [
       "# Website Summary: Edward Donner's Home Page\n",
       "=============================\n",
       "\n",
       "The website is a personal homepage of Ed, the founder and CTO of Nebula.io. It appears that Ed is passionate about writing code and experimenting with Large Language Models (LLMs).\n",
       "\n",
       "## Featured Section\n",
       "-----------------\n",
       "\n",
       "*   Description: Explains Ed's background in coding, his interests in DJing and amateur electronic music production.\n",
       "*   Links to:\n",
       "    *   Nebula.io (Ed's current position as CTO)\n",
       "    *   untapt (acquired AI startup founded by Ed)\n",
       "\n",
       "## Announcements & News\n",
       "----------------------\n",
       "\n",
       "### Recent Posts:\n",
       "1. **January 23, 2025**: LLM Workshop – Hands-on with Agents – resources\n",
       "2. **December 21, 2024**: Welcome, SuperDataScientists!\n",
       "3. **November 13, 2024**: Mastering AI and LLM Engineering – Resources\n",
       "4. **October 16, 2024**: From Software Engineer to AI Data Scientist - resources\n",
       "\n",
       "## Blog Categories:\n",
       "------------------\n",
       "\n",
       "*   Agent-based Systems\n",
       "*   AI & LLMs\n",
       "*   Code Snippets"
      ],
      "text/plain": [
       "<IPython.core.display.Markdown object>"
      ]
     },
     "metadata": {},
     "output_type": "display_data"
    }
   ],
   "source": [
    "# Display the summary of the example website using Markdown\n",
    "display_summary(\"https://edwarddonner.com\")"
   ]
  }
 ],
 "metadata": {
  "kernelspec": {
   "display_name": "Python 3 (ipykernel)",
   "language": "python",
   "name": "python3"
  },
  "language_info": {
   "codemirror_mode": {
    "name": "ipython",
    "version": 3
   },
   "file_extension": ".py",
   "mimetype": "text/x-python",
   "name": "python",
   "nbconvert_exporter": "python",
   "pygments_lexer": "ipython3",
   "version": "3.11.12"
  }
 },
 "nbformat": 4,
 "nbformat_minor": 5
}
